{
  "nbformat": 4,
  "nbformat_minor": 0,
  "metadata": {
    "colab": {
      "name": "sympy_p023.ipynb",
      "provenance": [],
      "collapsed_sections": [],
      "authorship_tag": "ABX9TyMIbggMDaE68GTvF7VwJI4/",
      "include_colab_link": true
    },
    "kernelspec": {
      "name": "python3",
      "display_name": "Python 3"
    },
    "language_info": {
      "name": "python"
    }
  },
  "cells": [
    {
      "cell_type": "markdown",
      "metadata": {
        "id": "view-in-github",
        "colab_type": "text"
      },
      "source": [
        "<a href=\"https://colab.research.google.com/github/Nobukuni-Hyakutake/covid19tokyo/blob/main/sympy_p023.ipynb\" target=\"_parent\"><img src=\"https://colab.research.google.com/assets/colab-badge.svg\" alt=\"Open In Colab\"/></a>"
      ]
    },
    {
      "cell_type": "code",
      "metadata": {
        "id": "71ohvCLM4wDv"
      },
      "source": [
        "from sympy import *\n"
      ],
      "execution_count": null,
      "outputs": []
    },
    {
      "cell_type": "code",
      "metadata": {
        "colab": {
          "base_uri": "https://localhost:8080/",
          "height": 38
        },
        "id": "V7qblgR046J_",
        "outputId": "0e18243d-2427-45b3-d32c-57debfa35a09"
      },
      "source": [
        "a,b,x=symbols(\"a b x\")\n",
        "\n",
        "diff(exp(a*x)*sin(b*x),x)"
      ],
      "execution_count": null,
      "outputs": [
        {
          "output_type": "execute_result",
          "data": {
            "text/latex": "$\\displaystyle a e^{a x} \\sin{\\left(b x \\right)} + b e^{a x} \\cos{\\left(b x \\right)}$",
            "text/plain": [
              "a*exp(a*x)*sin(b*x) + b*exp(a*x)*cos(b*x)"
            ]
          },
          "metadata": {},
          "execution_count": 2
        }
      ]
    },
    {
      "cell_type": "code",
      "metadata": {
        "id": "WID-YQpb49vn",
        "colab": {
          "base_uri": "https://localhost:8080/",
          "height": 78
        },
        "outputId": "3db53210-a464-4ce8-dda8-d0b01f49e47c"
      },
      "source": [
        "A=Matrix([[1,-a,0],\n",
        "          [0,1,-a],\n",
        "          [0,0,1]])\n",
        "A**(-1)"
      ],
      "execution_count": null,
      "outputs": [
        {
          "output_type": "execute_result",
          "data": {
            "text/latex": "$\\displaystyle \\left[\\begin{matrix}1 & a & a^{2}\\\\0 & 1 & a\\\\0 & 0 & 1\\end{matrix}\\right]$",
            "text/plain": [
              "Matrix([\n",
              "[1, a, a**2],\n",
              "[0, 1,    a],\n",
              "[0, 0,    1]])"
            ]
          },
          "metadata": {},
          "execution_count": 3
        }
      ]
    },
    {
      "cell_type": "markdown",
      "metadata": {
        "id": "FuPHck80L00g"
      },
      "source": [
        "# タイトル\n",
        "## サブタイトル\n",
        "\n",
        "1. a\n",
        "2. b\n",
        "\n",
        "- a\n",
        "- b\n",
        "- c\n",
        "\n",
        "$$ E=mc^2 $$\n",
        "\n",
        "テスト"
      ]
    },
    {
      "cell_type": "code",
      "metadata": {
        "colab": {
          "base_uri": "https://localhost:8080/"
        },
        "id": "bPpHlzNUMFa9",
        "outputId": "01e814c0-8565-4b01-c881-c8f396a73882"
      },
      "source": [
        "import math\n",
        "math.sin(8)"
      ],
      "execution_count": 1,
      "outputs": [
        {
          "output_type": "execute_result",
          "data": {
            "text/plain": [
              "0.9893582466233818"
            ]
          },
          "metadata": {},
          "execution_count": 1
        }
      ]
    },
    {
      "cell_type": "code",
      "metadata": {
        "id": "7jKsIOltMIAk"
      },
      "source": [
        ""
      ],
      "execution_count": null,
      "outputs": []
    }
  ]
}